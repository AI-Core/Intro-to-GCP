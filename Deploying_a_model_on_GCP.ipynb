{
  "nbformat": 4,
  "nbformat_minor": 0,
  "metadata": {
    "colab": {
      "name": "Deploying a model on GCP.ipynb",
      "provenance": [],
      "collapsed_sections": []
    },
    "kernelspec": {
      "name": "python3",
      "display_name": "Python 3.8.6 64-bit ('main': conda)",
      "metadata": {
        "interpreter": {
          "hash": "06c1e258a470a687113bfba03f207c092b27379067ada2d83b8b31269ab641fe"
        }
      }
    }
  },
  "cells": [
    {
      "cell_type": "markdown",
      "metadata": {
        "id": "2DqEnWBecBiz"
      },
      "source": [
        "# Deploying your first machine learning model on Google Cloud Platform"
      ]
    },
    {
      "source": [
        "This notebook complements the presentation slides and contains the little code required to deploy a ML model on GCP."
      ],
      "cell_type": "markdown",
      "metadata": {}
    },
    {
      "cell_type": "markdown",
      "metadata": {
        "id": "X2YRhquNeksb"
      },
      "source": [
        "## Fitting and saving a model"
      ]
    },
    {
      "cell_type": "code",
      "metadata": {
        "colab": {
          "base_uri": "https://localhost:8080/"
        },
        "id": "obZBO8w9b3z7",
        "outputId": "39c9c446-37a6-4473-efd1-6f5872344bc3"
      },
      "source": [
        "from sklearn import datasets\n",
        "from sklearn.ensemble import RandomForestClassifier\n",
        "import joblib\n",
        "\n",
        "iris = datasets.load_iris()\n",
        "classifier = RandomForestClassifier()\n",
        "classifier.fit(iris.data, iris.target)\n",
        "\n",
        "joblib.dump(classifier, 'model.joblib')"
      ],
      "execution_count": 1,
      "outputs": [
        {
          "output_type": "execute_result",
          "data": {
            "text/plain": [
              "['model.joblib']"
            ]
          },
          "metadata": {},
          "execution_count": 1
        }
      ]
    },
    {
      "source": [
        "## Save a random example which we will test on"
      ],
      "cell_type": "markdown",
      "metadata": {}
    },
    {
      "cell_type": "code",
      "execution_count": 2,
      "metadata": {},
      "outputs": [],
      "source": [
        "import random\n",
        "import json\n",
        "\n",
        "\n",
        "with open('test_example.json', 'w') as f:\n",
        "    ex = iris['data']\n",
        "    ex = random.choice(ex)\n",
        "    ex = ex.tolist()\n",
        "    json.dump(ex, f)"
      ]
    },
    {
      "source": [
        "## Install the GCP SDK \n",
        "\n",
        "[Guide here](https://cloud.google.com/sdk/docs/install)\n"
      ],
      "cell_type": "markdown",
      "metadata": {}
    },
    {
      "cell_type": "markdown",
      "metadata": {
        "id": "vS-ev8XVew-v"
      },
      "source": [
        "## Deploying the model"
      ]
    },
    {
      "cell_type": "code",
      "metadata": {
        "id": "Hh48b4P-fvq7"
      },
      "source": [
        "! export PROJECT_ID=$(gcloud config list project --format \"value(core.project)\")\n",
        "! export BUCKET_NAME=${PROJECT_ID}-aiplatform"
      ],
      "execution_count": 11,
      "outputs": []
    },
    {
      "cell_type": "code",
      "metadata": {
        "id": "VLVNzvdxf1Zg"
      },
      "source": [
        "! echo $BUCKET_NAME"
      ],
      "execution_count": 12,
      "outputs": [
        {
          "output_type": "stream",
          "name": "stdout",
          "text": [
            "\n"
          ]
        }
      ]
    },
    {
      "cell_type": "code",
      "metadata": {
        "id": "VRhNMy_2gFqN"
      },
      "source": [
        "! REGION=europe-west2"
      ],
      "execution_count": 5,
      "outputs": []
    },
    {
      "source": [
        "## Make the bucket (can also be done through console like everything else)"
      ],
      "cell_type": "markdown",
      "metadata": {}
    },
    {
      "cell_type": "code",
      "metadata": {
        "id": "bZ6ijWeegG8X"
      },
      "source": [
        "! gsutil mb -l $REGION gs://$BUCKET_NAME"
      ],
      "execution_count": 6,
      "outputs": [
        {
          "output_type": "stream",
          "name": "stdout",
          "text": [
            "CommandException: The mb command requires at least 1 argument. Usage:\n\n  gsutil mb [-b (on|off)] [-c <class>] [-l <location>] [-p <proj_id>]\n            [--retention <time>] gs://<bucket_name>...\n\nFor additional help run:\n  gsutil help mb\n"
          ]
        }
      ]
    },
    {
      "source": [
        "## Copy your model to the cloud"
      ],
      "cell_type": "markdown",
      "metadata": {}
    },
    {
      "cell_type": "code",
      "metadata": {
        "id": "TLoRzIamg_Rz"
      },
      "source": [
        "! gsutil cp ./model.joblib gs://your-bucket/model.joblib"
      ],
      "execution_count": null,
      "outputs": []
    },
    {
      "source": [
        "## Test a model locally"
      ],
      "cell_type": "markdown",
      "metadata": {}
    },
    {
      "cell_type": "code",
      "metadata": {
        "id": "jE9kRKrdfIuA"
      },
      "source": [
        "! gcloud ai-platform local predict --model-dir . --json-instances test_example.json --framework scikit-learn"
      ],
      "execution_count": 13,
      "outputs": [
        {
          "output_type": "stream",
          "name": "stdout",
          "text": [
            "If the signature defined in the model is not serving_default then you must specify it via --signature-name flag, otherwise the command may fail.\n",
            "[2]\n"
          ]
        }
      ]
    },
    {
      "source": [
        "## Make prediction through cloud"
      ],
      "cell_type": "markdown",
      "metadata": {}
    },
    {
      "cell_type": "code",
      "metadata": {
        "id": "XR9BiYRKfM1p"
      },
      "source": [
        "! gcloud ai-platform predict --model test_model --json-instances test_example.json --region europe-west2"
      ],
      "execution_count": 14,
      "outputs": [
        {
          "output_type": "stream",
          "name": "stdout",
          "text": [
            "Using endpoint [https://europe-west2-ml.googleapis.com/]\n",
            "[2]\n"
          ]
        }
      ]
    },
    {
      "source": [
        "\n",
        "## Python bindings"
      ],
      "cell_type": "markdown",
      "metadata": {}
    },
    {
      "source": [
        "### Install"
      ],
      "cell_type": "markdown",
      "metadata": {}
    },
    {
      "cell_type": "code",
      "execution_count": 15,
      "metadata": {},
      "outputs": [
        {
          "output_type": "stream",
          "name": "stdout",
          "text": [
            "Requirement already satisfied: google-api-python-client in /Users/ice/miniconda3/envs/main/lib/python3.8/site-packages (1.12.8)\n",
            "Requirement already satisfied: google-auth>=1.16.0 in /Users/ice/miniconda3/envs/main/lib/python3.8/site-packages (from google-api-python-client) (1.22.1)\n",
            "Requirement already satisfied: httplib2<1dev,>=0.15.0 in /Users/ice/miniconda3/envs/main/lib/python3.8/site-packages (from google-api-python-client) (0.18.1)\n",
            "Requirement already satisfied: google-auth-httplib2>=0.0.3 in /Users/ice/miniconda3/envs/main/lib/python3.8/site-packages (from google-api-python-client) (0.0.4)\n",
            "Requirement already satisfied: six<2dev,>=1.13.0 in /Users/ice/miniconda3/envs/main/lib/python3.8/site-packages (from google-api-python-client) (1.15.0)\n",
            "Requirement already satisfied: uritemplate<4dev,>=3.0.0 in /Users/ice/miniconda3/envs/main/lib/python3.8/site-packages (from google-api-python-client) (3.0.1)\n",
            "Requirement already satisfied: google-api-core<2dev,>=1.21.0 in /Users/ice/miniconda3/envs/main/lib/python3.8/site-packages (from google-api-python-client) (1.23.0)\n",
            "Requirement already satisfied: cachetools<5.0,>=2.0.0 in /Users/ice/miniconda3/envs/main/lib/python3.8/site-packages (from google-auth>=1.16.0->google-api-python-client) (4.1.1)\n",
            "Requirement already satisfied: setuptools>=40.3.0 in /Users/ice/miniconda3/envs/main/lib/python3.8/site-packages (from google-auth>=1.16.0->google-api-python-client) (50.3.0.post20201006)\n",
            "Requirement already satisfied: pyasn1-modules>=0.2.1 in /Users/ice/miniconda3/envs/main/lib/python3.8/site-packages (from google-auth>=1.16.0->google-api-python-client) (0.2.8)\n",
            "Requirement already satisfied: rsa<5,>=3.1.4; python_version >= \"3.5\" in /Users/ice/miniconda3/envs/main/lib/python3.8/site-packages (from google-auth>=1.16.0->google-api-python-client) (4.6)\n",
            "Requirement already satisfied: requests<3.0.0dev,>=2.18.0 in /Users/ice/miniconda3/envs/main/lib/python3.8/site-packages (from google-api-core<2dev,>=1.21.0->google-api-python-client) (2.24.0)\n",
            "Requirement already satisfied: protobuf>=3.12.0 in /Users/ice/miniconda3/envs/main/lib/python3.8/site-packages (from google-api-core<2dev,>=1.21.0->google-api-python-client) (3.13.0)\n",
            "Requirement already satisfied: pytz in /Users/ice/miniconda3/envs/main/lib/python3.8/site-packages (from google-api-core<2dev,>=1.21.0->google-api-python-client) (2020.1)\n",
            "Requirement already satisfied: googleapis-common-protos<2.0dev,>=1.6.0 in /Users/ice/miniconda3/envs/main/lib/python3.8/site-packages (from google-api-core<2dev,>=1.21.0->google-api-python-client) (1.52.0)\n",
            "Requirement already satisfied: pyasn1<0.5.0,>=0.4.6 in /Users/ice/miniconda3/envs/main/lib/python3.8/site-packages (from pyasn1-modules>=0.2.1->google-auth>=1.16.0->google-api-python-client) (0.4.8)\n",
            "Requirement already satisfied: idna<3,>=2.5 in /Users/ice/miniconda3/envs/main/lib/python3.8/site-packages (from requests<3.0.0dev,>=2.18.0->google-api-core<2dev,>=1.21.0->google-api-python-client) (2.10)\n",
            "Requirement already satisfied: chardet<4,>=3.0.2 in /Users/ice/miniconda3/envs/main/lib/python3.8/site-packages (from requests<3.0.0dev,>=2.18.0->google-api-core<2dev,>=1.21.0->google-api-python-client) (3.0.4)\n",
            "Requirement already satisfied: certifi>=2017.4.17 in /Users/ice/miniconda3/envs/main/lib/python3.8/site-packages (from requests<3.0.0dev,>=2.18.0->google-api-core<2dev,>=1.21.0->google-api-python-client) (2020.12.5)\n",
            "Requirement already satisfied: urllib3!=1.25.0,!=1.25.1,<1.26,>=1.21.1 in /Users/ice/miniconda3/envs/main/lib/python3.8/site-packages (from requests<3.0.0dev,>=2.18.0->google-api-core<2dev,>=1.21.0->google-api-python-client) (1.25.10)\n"
          ]
        }
      ],
      "source": [
        "! pip install google-api-python-client"
      ]
    },
    {
      "source": [
        "### Authenticate"
      ],
      "cell_type": "markdown",
      "metadata": {}
    },
    {
      "cell_type": "code",
      "execution_count": 16,
      "metadata": {},
      "outputs": [],
      "source": [
        "import os\n",
        "os.environ[\"GOOGLE_APPLICATION_CREDENTIALS\"] = \"/Users/ice/keys/gcp-my-first-project.json\""
      ]
    },
    {
      "source": [
        "### Enter project and model details"
      ],
      "cell_type": "markdown",
      "metadata": {}
    },
    {
      "cell_type": "code",
      "execution_count": 17,
      "metadata": {},
      "outputs": [],
      "source": [
        "project = 'fifth-marker-303416'\n",
        "model = 'globalDemoClassifier'"
      ]
    },
    {
      "source": [
        "### Get predictions"
      ],
      "cell_type": "markdown",
      "metadata": {}
    },
    {
      "cell_type": "code",
      "execution_count": 18,
      "metadata": {},
      "outputs": [
        {
          "output_type": "stream",
          "name": "stdout",
          "text": [
            "{'predictions': [2]}\n"
          ]
        }
      ],
      "source": [
        "import json\n",
        "import googleapiclient.discovery\n",
        "\n",
        "ai_platform_client = googleapiclient.discovery.build('ml', 'v1')\n",
        "\n",
        "with open('test_example.json') as f:\n",
        "    instances = json.load(f)\n",
        "\n",
        "name = f'projects/{project}/models/{model}'\n",
        "\n",
        "response = ai_platform_client.projects().predict(\n",
        "    name=name,\n",
        "    body={'instances': [instances]}\n",
        ").execute()\n",
        "\n",
        "print(response)"
      ]
    },
    {
      "cell_type": "code",
      "execution_count": null,
      "metadata": {},
      "outputs": [],
      "source": []
    }
  ]
}