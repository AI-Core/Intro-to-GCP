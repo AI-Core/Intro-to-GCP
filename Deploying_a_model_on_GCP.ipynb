{
  "nbformat": 4,
  "nbformat_minor": 0,
  "metadata": {
    "colab": {
      "name": "Deploying a model on GCP.ipynb",
      "provenance": [],
      "collapsed_sections": []
    },
    "kernelspec": {
      "name": "python3",
      "display_name": "Python 3.8.6 64-bit ('main': conda)",
      "metadata": {
        "interpreter": {
          "hash": "06c1e258a470a687113bfba03f207c092b27379067ada2d83b8b31269ab641fe"
        }
      }
    }
  },
  "cells": [
    {
      "cell_type": "markdown",
      "metadata": {
        "id": "2DqEnWBecBiz"
      },
      "source": [
        "# Deploying your first machine learning model on Google Cloud Platform"
      ]
    },
    {
      "cell_type": "markdown",
      "metadata": {
        "id": "X2YRhquNeksb"
      },
      "source": [
        "## Fitting and saving a model"
      ]
    },
    {
      "cell_type": "code",
      "metadata": {
        "colab": {
          "base_uri": "https://localhost:8080/"
        },
        "id": "obZBO8w9b3z7",
        "outputId": "39c9c446-37a6-4473-efd1-6f5872344bc3"
      },
      "source": [
        "from sklearn import datasets\n",
        "from sklearn.ensemble import RandomForestClassifier\n",
        "import joblib\n",
        "import json\n",
        "\n",
        "iris = datasets.load_iris()\n",
        "# print(iris)\n",
        "classifier = RandomForestClassifier()\n",
        "classifier.fit(iris.data, iris.target)\n",
        "\n",
        "joblib.dump(classifier, 'model.joblib')\n",
        "\n",
        "with open('test_example.json', 'w') as f:\n",
        "    ex = iris['data'][0].tolist()\n",
        "    json.dump(ex, f)"
      ],
      "execution_count": 12,
      "outputs": []
    },
    {
      "source": [
        "## Install the GCP SDK \n",
        "\n",
        "[Guide here](https://cloud.google.com/sdk/docs/install)\n"
      ],
      "cell_type": "markdown",
      "metadata": {}
    },
    {
      "cell_type": "markdown",
      "metadata": {
        "id": "ubJQDub3e3MJ"
      },
      "source": [
        "## Authenticating this notebook"
      ]
    },
    {
      "cell_type": "code",
      "metadata": {
        "id": "tvXTpmTWe66b"
      },
      "source": [],
      "execution_count": null,
      "outputs": []
    },
    {
      "cell_type": "markdown",
      "metadata": {
        "id": "vS-ev8XVew-v"
      },
      "source": [
        "## Deploying the model"
      ]
    },
    {
      "cell_type": "markdown",
      "metadata": {
        "id": "n0Bm1T7xe_Tx"
      },
      "source": [
        "### Uploading our model to the cloud"
      ]
    },
    {
      "cell_type": "code",
      "metadata": {
        "id": "Hh48b4P-fvq7"
      },
      "source": [
        "! PROJECT_ID=$(gcloud config list project --format \"value(core.project)\")\n",
        "! BUCKET_NAME=${PROJECT_ID}-aiplatform"
      ],
      "execution_count": 3,
      "outputs": [
        {
          "output_type": "stream",
          "name": "stdout",
          "text": [
            "zsh:1: command not found: gcloud\n"
          ]
        }
      ]
    },
    {
      "cell_type": "code",
      "metadata": {
        "id": "VLVNzvdxf1Zg"
      },
      "source": [
        "! echo $BUCKET_NAME"
      ],
      "execution_count": null,
      "outputs": []
    },
    {
      "cell_type": "code",
      "metadata": {
        "id": "VRhNMy_2gFqN"
      },
      "source": [
        "! REGION=europe-west2"
      ],
      "execution_count": 4,
      "outputs": []
    },
    {
      "cell_type": "code",
      "metadata": {
        "id": "bZ6ijWeegG8X"
      },
      "source": [
        "! gsutil mb -l $REGION gs://$BUCKET_NAME"
      ],
      "execution_count": 5,
      "outputs": [
        {
          "output_type": "stream",
          "name": "stdout",
          "text": [
            "zsh:1: command not found: gsutil\n"
          ]
        }
      ]
    },
    {
      "cell_type": "code",
      "metadata": {
        "id": "TLoRzIamg_Rz"
      },
      "source": [
        "! gsutil cp ./model.joblib gs://your-bucket/model.joblib"
      ],
      "execution_count": null,
      "outputs": []
    },
    {
      "cell_type": "markdown",
      "metadata": {
        "id": "Ja03aSy8fFYd"
      },
      "source": [
        "### Creating a model resource"
      ]
    },
    {
      "cell_type": "code",
      "execution_count": null,
      "metadata": {},
      "outputs": [],
      "source": [
        "! gcloud ai-platform local predict --model-dir local-or-cloud-storage-path-to-model-directory/ \\\n",
        "  --json-instances local-path-to-prediction-input.json \\\n",
        "  --framework name-of-framework"
      ]
    },
    {
      "cell_type": "code",
      "metadata": {
        "id": "jE9kRKrdfIuA"
      },
      "source": [],
      "execution_count": null,
      "outputs": []
    },
    {
      "cell_type": "markdown",
      "metadata": {
        "id": "ivxGvRdOfJhr"
      },
      "source": [
        "### Creating a version resource"
      ]
    },
    {
      "cell_type": "code",
      "metadata": {
        "id": "XR9BiYRKfM1p"
      },
      "source": [],
      "execution_count": null,
      "outputs": []
    },
    {
      "source": [
        "## Test a model locally"
      ],
      "cell_type": "markdown",
      "metadata": {}
    },
    {
      "cell_type": "code",
      "execution_count": null,
      "metadata": {},
      "outputs": [],
      "source": []
    }
  ]
}