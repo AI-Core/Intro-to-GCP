{
  "nbformat": 4,
  "nbformat_minor": 0,
  "metadata": {
    "colab": {
      "name": "Deploying a model on GCP.ipynb",
      "provenance": [],
      "collapsed_sections": []
    },
    "kernelspec": {
      "name": "python3",
      "display_name": "Python 3.8.6 64-bit ('main': conda)",
      "metadata": {
        "interpreter": {
          "hash": "06c1e258a470a687113bfba03f207c092b27379067ada2d83b8b31269ab641fe"
        }
      }
    }
  },
  "cells": [
    {
      "cell_type": "markdown",
      "metadata": {
        "id": "2DqEnWBecBiz"
      },
      "source": [
        "# Deploying your first machine learning model on Google Cloud Platform"
      ]
    },
    {
      "source": [
        "This notebook complements the presentation slides and contains the little code required to deploy a ML model on GCP."
      ],
      "cell_type": "markdown",
      "metadata": {}
    },
    {
      "cell_type": "markdown",
      "metadata": {
        "id": "X2YRhquNeksb"
      },
      "source": [
        "## Fitting and saving a model"
      ]
    },
    {
      "cell_type": "code",
      "metadata": {
        "colab": {
          "base_uri": "https://localhost:8080/"
        },
        "id": "obZBO8w9b3z7",
        "outputId": "39c9c446-37a6-4473-efd1-6f5872344bc3"
      },
      "source": [
        "from sklearn import datasets\n",
        "from sklearn.ensemble import RandomForestClassifier\n",
        "import joblib\n",
        "\n",
        "iris = datasets.load_iris()\n",
        "classifier = RandomForestClassifier()\n",
        "classifier.fit(iris.data, iris.target)\n",
        "\n",
        "joblib.dump(classifier, 'model.joblib')"
      ],
      "execution_count": 1,
      "outputs": [
        {
          "output_type": "execute_result",
          "data": {
            "text/plain": [
              "['model.joblib']"
            ]
          },
          "metadata": {},
          "execution_count": 1
        }
      ]
    },
    {
      "source": [
        "## Save a random example which we will test on"
      ],
      "cell_type": "markdown",
      "metadata": {}
    },
    {
      "cell_type": "code",
      "execution_count": 2,
      "metadata": {},
      "outputs": [],
      "source": [
        "import random\n",
        "import json\n",
        "\n",
        "\n",
        "with open('test_example.json', 'w') as f:\n",
        "    ex = iris['data']\n",
        "    ex = random.choice(ex)\n",
        "    ex = ex.tolist()\n",
        "    json.dump(ex, f)"
      ]
    },
    {
      "source": [
        "## Install the GCP SDK \n",
        "\n",
        "[Guide here](https://cloud.google.com/sdk/docs/install)\n"
      ],
      "cell_type": "markdown",
      "metadata": {}
    },
    {
      "cell_type": "markdown",
      "metadata": {
        "id": "vS-ev8XVew-v"
      },
      "source": [
        "## Deploying the model"
      ]
    },
    {
      "cell_type": "code",
      "metadata": {
        "id": "Hh48b4P-fvq7"
      },
      "source": [
        "! PROJECT_ID=$(gcloud config list project --format \"value(core.project)\")\n",
        "! BUCKET_NAME=${PROJECT_ID}-aiplatform"
      ],
      "execution_count": 3,
      "outputs": [
        {
          "output_type": "stream",
          "name": "stdout",
          "text": [
            "zsh:1: command not found: gcloud\n"
          ]
        }
      ]
    },
    {
      "cell_type": "code",
      "metadata": {
        "id": "VLVNzvdxf1Zg"
      },
      "source": [
        "! echo $BUCKET_NAME"
      ],
      "execution_count": null,
      "outputs": []
    },
    {
      "cell_type": "code",
      "metadata": {
        "id": "VRhNMy_2gFqN"
      },
      "source": [
        "! REGION=europe-west2"
      ],
      "execution_count": 4,
      "outputs": []
    },
    {
      "source": [
        "## Make the bucket (can also be done through console like everything else)"
      ],
      "cell_type": "markdown",
      "metadata": {}
    },
    {
      "cell_type": "code",
      "metadata": {
        "id": "bZ6ijWeegG8X"
      },
      "source": [
        "! gsutil mb -l $REGION gs://$BUCKET_NAME"
      ],
      "execution_count": 5,
      "outputs": [
        {
          "output_type": "stream",
          "name": "stdout",
          "text": [
            "zsh:1: command not found: gsutil\n"
          ]
        }
      ]
    },
    {
      "source": [
        "## Copy your model to the cloud"
      ],
      "cell_type": "markdown",
      "metadata": {}
    },
    {
      "cell_type": "code",
      "metadata": {
        "id": "TLoRzIamg_Rz"
      },
      "source": [
        "! gsutil cp ./model.joblib gs://your-bucket/model.joblib"
      ],
      "execution_count": null,
      "outputs": []
    },
    {
      "source": [
        "## Test a model locally"
      ],
      "cell_type": "markdown",
      "metadata": {}
    },
    {
      "cell_type": "code",
      "metadata": {
        "id": "jE9kRKrdfIuA"
      },
      "source": [
        "! gcloud ai-platform local predict --model-dir . --json-instances test_example.json --framework scikit-learn"
      ],
      "execution_count": null,
      "outputs": []
    },
    {
      "source": [
        "## Make prediction through cloud"
      ],
      "cell_type": "markdown",
      "metadata": {}
    },
    {
      "cell_type": "code",
      "metadata": {
        "id": "XR9BiYRKfM1p"
      },
      "source": [
        "! gcloud ai-platform predict --model test_model --json-instances test_example.json --region europe-west2"
      ],
      "execution_count": null,
      "outputs": []
    },
    {
      "source": [
        "\n",
        "## Python bindings"
      ],
      "cell_type": "markdown",
      "metadata": {}
    },
    {
      "source": [
        "### Install"
      ],
      "cell_type": "markdown",
      "metadata": {}
    },
    {
      "cell_type": "code",
      "execution_count": null,
      "metadata": {},
      "outputs": [],
      "source": [
        "! pip install google-api-python-client"
      ]
    },
    {
      "source": [
        "### Authenticate"
      ],
      "cell_type": "markdown",
      "metadata": {}
    },
    {
      "cell_type": "code",
      "execution_count": 16,
      "metadata": {},
      "outputs": [],
      "source": [
        "import os\n",
        "os.environ[\"GOOGLE_APPLICATION_CREDENTIALS\"] = \"/Users/ice/keys/gcp-my-first-project.json\""
      ]
    },
    {
      "source": [
        "### Enter project and model details"
      ],
      "cell_type": "markdown",
      "metadata": {}
    },
    {
      "cell_type": "code",
      "execution_count": 29,
      "metadata": {},
      "outputs": [],
      "source": [
        "project = 'fifth-marker-303416'\n",
        "model = 'globalDemoClassifier'"
      ]
    },
    {
      "source": [
        "### Get predictions"
      ],
      "cell_type": "markdown",
      "metadata": {}
    },
    {
      "cell_type": "code",
      "execution_count": 33,
      "metadata": {},
      "outputs": [
        {
          "output_type": "stream",
          "name": "stdout",
          "text": [
            "{'predictions': [2]}\n"
          ]
        }
      ],
      "source": [
        "import json\n",
        "import googleapiclient.discovery\n",
        "\n",
        "ai_platform_client = googleapiclient.discovery.build('ml', 'v1')\n",
        "\n",
        "with open('test_example.json') as f:\n",
        "    instances = json.load(f)\n",
        "\n",
        "name = f'projects/{project}/models/{model}'\n",
        "\n",
        "response = ai_platform_client.projects().predict(\n",
        "    name=name,\n",
        "    body={'instances': [instances]}\n",
        ").execute()\n",
        "\n",
        "print(response)"
      ]
    }
  ]
}